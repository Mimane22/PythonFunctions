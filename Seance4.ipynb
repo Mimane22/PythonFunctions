{
 "cells": [
  {
   "cell_type": "code",
   "execution_count": 1,
   "id": "281bb1bc",
   "metadata": {},
   "outputs": [
    {
     "name": "stdout",
     "output_type": "stream",
     "text": [
      "Enter 3 numbers : \n",
      "x = 3\n",
      "y = 4\n",
      "z = 5\n",
      "The maximum of  3 , 4  and  5  is  5\n"
     ]
    }
   ],
   "source": [
    "def maximum(a, b, c):\n",
    "    if a >= b and a >= c:\n",
    "        return(a)\n",
    "    elif b >= a and b >= c:\n",
    "        return(b)\n",
    "    elif c >= a and c >= b:\n",
    "        return(c)\n",
    "maximum(2,5,10)\n",
    "print(\"Enter 3 numbers : \")\n",
    "x = input(\"x = \")\n",
    "y = input(\"y = \")\n",
    "z = input(\"z = \")\n",
    "print(\"The maximum of \", x, \",\", y,\" and \",z ,\" is \", maximum(x, y, z))"
   ]
  },
  {
   "cell_type": "code",
   "execution_count": 2,
   "id": "f8633220",
   "metadata": {},
   "outputs": [
    {
     "data": {
      "text/plain": [
       "(50, 30)"
      ]
     },
     "execution_count": 2,
     "metadata": {},
     "output_type": "execute_result"
    }
   ],
   "source": [
    "def calculation(x1, x2):\n",
    "    addition = x1 + x2\n",
    "    subtraction = x1 - x2\n",
    "    return(addition, subtraction)\n",
    "calculation(40, 10)"
   ]
  },
  {
   "cell_type": "code",
   "execution_count": 18,
   "id": "faac3af1",
   "metadata": {},
   "outputs": [
    {
     "name": "stdout",
     "output_type": "stream",
     "text": [
      "31\n",
      "5760\n"
     ]
    }
   ],
   "source": [
    "liste1 = [1, 3, 5, 6, 8, 8]\n",
    "def somme(liste):\n",
    "    Sum = 0\n",
    "    for i in liste:\n",
    "        Sum += i\n",
    "    return(Sum)\n",
    "S = somme(liste1)\n",
    "print(S)\n",
    "def Multiplication(liste):\n",
    "    Multi = 1\n",
    "    for i in liste:\n",
    "        Multi *= i\n",
    "    return(Multi)\n",
    "M = Multiplication(liste1)\n",
    "print(M)"
   ]
  },
  {
   "cell_type": "code",
   "execution_count": 19,
   "id": "bd2f21ca",
   "metadata": {},
   "outputs": [
    {
     "data": {
      "text/plain": [
       "(14, 144)"
      ]
     },
     "execution_count": 19,
     "metadata": {},
     "output_type": "execute_result"
    }
   ],
   "source": [
    "def SomMult(liste):\n",
    "    listePaire = []\n",
    "    listeImpaire = []\n",
    "    for i in range(0, len(liste)):\n",
    "        if i % 2 == 0:\n",
    "            listePaire.append(liste[i])\n",
    "        else :\n",
    "            listeImpaire.append(liste[i])\n",
    "    SommePaire = somme(listePaire)\n",
    "    MultiImpaire = Multiplication(listeImpaire)\n",
    "    return(SommePaire, MultiImpaire)\n",
    "SomMult(liste1)"
   ]
  },
  {
   "cell_type": "code",
   "execution_count": 16,
   "id": "c1b0c830",
   "metadata": {},
   "outputs": [
    {
     "name": "stdout",
     "output_type": "stream",
     "text": [
      "enter colors : green-red-yellow-black-white\n"
     ]
    },
    {
     "data": {
      "text/plain": [
       "'black-green-red-white-yellow'"
      ]
     },
     "execution_count": 16,
     "metadata": {},
     "output_type": "execute_result"
    }
   ],
   "source": [
    "#liste2 = \"green-red-yellow-black-white\"\n",
    "liste2 = input(\"enter colors : \")\n",
    "def sorting(liste):\n",
    "    SplitList = liste.split(\"-\")\n",
    "    SplitList.sort()\n",
    "    FinalList = \"-\".join(SplitList)\n",
    "    return(FinalList)\n",
    "sorting(liste2)"
   ]
  },
  {
   "cell_type": "code",
   "execution_count": 11,
   "id": "664ca20f",
   "metadata": {},
   "outputs": [],
   "source": [
    "import math"
   ]
  },
  {
   "cell_type": "code",
   "execution_count": 20,
   "id": "7e124c46",
   "metadata": {},
   "outputs": [
    {
     "name": "stdout",
     "output_type": "stream",
     "text": [
      "[18, 22, 24]\n"
     ]
    }
   ],
   "source": [
    "C = 50\n",
    "H = 30\n",
    "def RacineCarre(d):\n",
    "    A = math.sqrt((2 * C * d) / H)\n",
    "    return(math.floor(A))\n",
    "result1 = list(map(RacineCarre,(100,150,180)))\n",
    "print(result1)"
   ]
  },
  {
   "cell_type": "code",
   "execution_count": null,
   "id": "2c4ff5f1",
   "metadata": {},
   "outputs": [],
   "source": []
  }
 ],
 "metadata": {
  "kernelspec": {
   "display_name": "Python 3 (ipykernel)",
   "language": "python",
   "name": "python3"
  },
  "language_info": {
   "codemirror_mode": {
    "name": "ipython",
    "version": 3
   },
   "file_extension": ".py",
   "mimetype": "text/x-python",
   "name": "python",
   "nbconvert_exporter": "python",
   "pygments_lexer": "ipython3",
   "version": "3.9.7"
  }
 },
 "nbformat": 4,
 "nbformat_minor": 5
}
